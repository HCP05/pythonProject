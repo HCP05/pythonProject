{
 "cells": [
  {
   "cell_type": "code",
   "execution_count": 21,
   "metadata": {
    "collapsed": true
   },
   "outputs": [
    {
     "name": "stdout",
     "output_type": "stream",
     "text": [
      "Mergemerge\n"
     ]
    },
    {
     "ename": "TypeError",
     "evalue": "'NoneType' object is not callable",
     "output_type": "error",
     "traceback": [
      "\u001B[1;31m---------------------------------------------------------------------------\u001B[0m",
      "\u001B[1;31mTypeError\u001B[0m                                 Traceback (most recent call last)",
      "\u001B[1;32m~\\AppData\\Local\\Temp/ipykernel_2904/4012870237.py\u001B[0m in \u001B[0;36m<module>\u001B[1;34m\u001B[0m\n\u001B[0;32m      9\u001B[0m     \u001B[1;32mreturn\u001B[0m \u001B[1;34m\"Merge\"\u001B[0m\u001B[1;33m\u001B[0m\u001B[1;33m\u001B[0m\u001B[0m\n\u001B[0;32m     10\u001B[0m \u001B[0mx\u001B[0m\u001B[1;33m=\u001B[0m\u001B[0mtestWrapper\u001B[0m\u001B[1;33m\u001B[0m\u001B[1;33m\u001B[0m\u001B[0m\n\u001B[1;32m---> 11\u001B[1;33m \u001B[0mx\u001B[0m\u001B[1;33m(\u001B[0m\u001B[1;33m)\u001B[0m\u001B[1;33m\u001B[0m\u001B[1;33m\u001B[0m\u001B[0m\n\u001B[0m",
      "\u001B[1;31mTypeError\u001B[0m: 'NoneType' object is not callable"
     ]
    }
   ],
   "source": [
    "def test(f):\n",
    "    def wrap(f,*args,**kwargs):\n",
    "        x=f(*args,**kwargs)\n",
    "        return print(x+\"merge\")\n",
    "    return wrap(f)\n",
    "\n",
    "@test\n",
    "def testWrapper():\n",
    "    return \"Merge\"\n",
    "x=testWrapper\n",
    "x()"
   ]
  },
  {
   "cell_type": "code",
   "execution_count": null,
   "outputs": [],
   "source": [
    "import enum\n",
    "from enum import Enum\n",
    "\n",
    "\n",
    "@enum.unique\n",
    "class myTypes(Enum):\n",
    "    REJECT=0,\n",
    "    IDENTIFIER=1,\n",
    "    KEYWORD=2,\n",
    "    OPERATOR=3,\n",
    "    SEPARATOR=4,\n",
    "    CONSTANT=5"
   ],
   "metadata": {
    "collapsed": false,
    "pycharm": {
     "name": "#%%\n"
    }
   }
  },
  {
   "cell_type": "code",
   "execution_count": 22,
   "outputs": [
    {
     "name": "stdout",
     "output_type": "stream",
     "text": [
      "merge\n",
      "merge\n"
     ]
    }
   ],
   "source": [
    "class test:\n",
    "    test=None\n",
    "    @staticmethod\n",
    "    def getTest():\n",
    "        if test.test is None:\n",
    "            test.test=1\n",
    "        else:\n",
    "            print(\"merge\")\n",
    "test.getTest()\n",
    "test.test=1\n",
    "test.getTest()\n",
    "test.getTest()\n",
    "\n"
   ],
   "metadata": {
    "collapsed": false,
    "pycharm": {
     "name": "#%%\n"
    }
   }
  }
 ],
 "metadata": {
  "kernelspec": {
   "display_name": "Python 3",
   "language": "python",
   "name": "python3"
  },
  "language_info": {
   "codemirror_mode": {
    "name": "ipython",
    "version": 2
   },
   "file_extension": ".py",
   "mimetype": "text/x-python",
   "name": "python",
   "nbconvert_exporter": "python",
   "pygments_lexer": "ipython2",
   "version": "2.7.6"
  }
 },
 "nbformat": 4,
 "nbformat_minor": 0
}